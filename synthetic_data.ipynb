{
 "cells": [
  {
   "cell_type": "code",
   "execution_count": 15,
   "metadata": {},
   "outputs": [],
   "source": [
    "import numpy as np\n",
    "import matplotlib.pyplot as plt\n",
    "%matplotlib inline\n",
    "\n",
    "# from p4_copy2 import render_pose_rays\n",
    "from plenoxel_og_copy2 import render_rays"
   ]
  },
  {
   "cell_type": "code",
   "execution_count": 36,
   "metadata": {},
   "outputs": [
    {
     "data": {
      "image/png": "[encoded data removed]",
      "text/plain": [
       "<Figure size 432x288 with 2 Axes>"
      ]
     },
     "metadata": {
      "needs_background": "light"
     },
     "output_type": "display_data"
    }
   ],
   "source": [
    "reso = 50\n",
    "\n",
    "volume = np.zeros((reso, reso, reso))\n",
    "\n",
    "# Add a large medium-density cube\n",
    "start = [reso//10, reso//10, reso//10]\n",
    "extent = [4*reso//5] * 3\n",
    "volume[start[0]:start[0]+extent[0], start[1]:start[1]+extent[1], start[2]:start[2]+extent[2]] = 0.2\n",
    "\n",
    "# Add a small high-density cube\n",
    "start = [reso//3, 2*reso//3, reso//2]\n",
    "extent = [reso//10] * 3\n",
    "volume[start[0]:start[0]+extent[0], start[1]:start[1]+extent[1], start[2]:start[2]+extent[2]] = 1.3\n",
    "\n",
    "# plt.figure()\n",
    "# plt.imshow(volume[reso//2, :, :])\n",
    "# plt.colorbar()\n",
    "# plt.show()\n",
    "# plt.figure()\n",
    "# plt.imshow(volume[:, reso//2, :])\n",
    "# plt.colorbar()\n",
    "# plt.show()\n",
    "plt.figure()\n",
    "plt.imshow(volume[:, :, reso//2])\n",
    "plt.colorbar()\n",
    "plt.show()\n"
   ]
  },
  {
   "cell_type": "code",
   "execution_count": 51,
   "metadata": {},
   "outputs": [
    {
     "name": "stderr",
     "output_type": "stream",
     "text": [
      "  0%|          | 0/720 [00:00<?, ?it/s]"
     ]
    },
    {
     "name": "stderr",
     "output_type": "stream",
     "text": [
      "100%|██████████| 720/720 [00:15<00:00, 45.62it/s]\n"
     ]
    },
    {
     "name": "stdout",
     "output_type": "stream",
     "text": [
      "(720, 700, 700)\n"
     ]
    },
    {
     "name": "stderr",
     "output_type": "stream",
     "text": [
      "/tmp/ipykernel_273475/530541979.py:88: DeprecationWarning: <tifffile.imsave> is deprecated. Use tifffile.imwrite\n",
      "  tifffile.imsave(f'synthetic_projections_raw_radius{radius}_reso{reso}_H{H}.tif', all_rgbs)\n",
      "/tmp/ipykernel_273475/530541979.py:89: DeprecationWarning: <tifffile.imsave> is deprecated. Use tifffile.imwrite\n",
      "  tifffile.imsave(f'synthetic_volume_reso{reso}.tif', volume)\n"
     ]
    }
   ],
   "source": [
    "# Render with the spike projection matrices, using render_pose_rays, and save as a tiff for training\n",
    "# render_pose_rays(data_dict, c2w, H, W, focal, FLAGS.resolution, radius, FLAGS.harmonic_degree, FLAGS.jitter, FLAGS.uniform, key, sh_dim, FLAGS.physical_batch_size, FLAGS.interpolation, FLAGS.nv)\n",
    "import jax\n",
    "import jax.numpy as jnp\n",
    "import math\n",
    "import os\n",
    "from tqdm import tqdm\n",
    "import tifffile\n",
    "\n",
    "H = reso * 14\n",
    "W = reso * 14\n",
    "dW = 0.024\n",
    "dH = 0.024\n",
    "data_dict = [volume]\n",
    "resolution = reso\n",
    "radius = 5\n",
    "xoff =  0.0\n",
    "yoff =  -1.3 # side to side (lower goes to left)\n",
    "zoff =  -5.2 # up down (the higher the number the higher the cube goes)\n",
    "\n",
    "def load_spike_c2w():\n",
    "    all_w2c = []\n",
    "    projection_matrices = np.genfromtxt(os.path.join('/home/fabriz/data/spike/', 'proj_mat_720frames.csv'), delimiter=',')  # [719, 12] /home/fabriz/data/spike/proj_mat_720frames.csv\n",
    "\n",
    "    #Traslation matrix along x,y,z\n",
    "    Tz = np.zeros((4,4))\n",
    "    Tz[0,0]=1.0\n",
    "    Tz[1,1]=1.0\n",
    "    Tz[2,2]=1.0\n",
    "    Tz[3,3]=1.0\n",
    "    Tz[0,3]=-xoff #test\n",
    "    Tz[1,3]=-yoff #test\n",
    "    Tz[2,3]=-zoff #test\n",
    "\n",
    "    for i in range(len(projection_matrices)): \n",
    "        # projection matrices P_(3,4)\n",
    "        w2c = np.reshape(projection_matrices[i], (3,4))\n",
    "        w2c = np.matmul(w2c,Tz) #applico una traslazione per centrate il volume\n",
    "        all_w2c.append(w2c)\n",
    "\n",
    "    return np.asarray(all_w2c)\n",
    "\n",
    "def get_rays_np(H, W, dH, dW, w2c):\n",
    "    # get M matrix\n",
    "    M = w2c[:,0:3]\n",
    "    # get  p4\n",
    "    p4 = w2c[:,-1]\n",
    "\n",
    "    # compute uo,vo,sdd\n",
    "    uo = (M[0,:]*M[2,:]).sum()\n",
    "    vo = (M[1,:]*M[2,:]).sum()\n",
    "    aU = math.sqrt((M[0,:]*M[0,:]).sum() - uo*uo)\n",
    "    aV = math.sqrt((M[1,:]*M[1,:]).sum() - vo*vo)\n",
    "    sdd = 0.5*(aU+aV)\n",
    "\n",
    "    #source position in the World Reference system\n",
    "    M_inv = np.linalg.inv(M)\n",
    "    srcPos = -np.matmul(M_inv,p4)\n",
    "    \n",
    "    shiftVo = (vo - 0.5 * H * dH)\n",
    "    u, v = jnp.meshgrid(jnp.linspace(0, W-1, W) + 0.5, jnp.linspace(0, H-1, H) + 0.5)\n",
    "    u = u * dW # u\n",
    "    v = v * dH # v\n",
    "    dirs   = jnp.stack([u, v, jnp.ones_like(u)], -1) \n",
    "    rays_d = jnp.sum(dirs[..., jnp.newaxis, :] * M_inv, -1) # check if the syntax is ok\n",
    "    rays_o = jnp.broadcast_to(srcPos,rays_d.shape)          # check if the syntax is ok\n",
    "    return rays_o, rays_d\n",
    "\n",
    "all_c2w = load_spike_c2w()\n",
    "# for c2w in all_c2w[::50]:\n",
    "all_rgbs = []\n",
    "for c2w in tqdm(all_c2w):\n",
    "    rays_o, rays_d = get_rays_np(H, W, dH, dW, c2w)\n",
    "    rays_o = np.reshape(rays_o, [-1,3])\n",
    "    rays_d = np.reshape(rays_d, [-1,3])\n",
    "    rgb, _, acc, _, _ = jax.lax.stop_gradient(render_rays(data_dict, (rays_o, rays_d), resolution, None, radius, harmonic_degree=-1, jitter=0, uniform=0.5, interpolation='trilinear', nv=False))\n",
    "    rgb = np.reshape(rgb, (H, W))\n",
    "    all_rgbs.append(rgb)\n",
    "    # acc = np.reshape(acc, (H, W, 1))\n",
    "    # plt.figure()\n",
    "    # plt.imshow(acc)\n",
    "    # plt.colorbar()\n",
    "    # plt.show()\n",
    "all_rgbs = np.array(all_rgbs)\n",
    "print(all_rgbs.shape)\n",
    "                                              \n",
    "\n",
    "tifffile.imsave(f'synthetic_projections_raw_radius{radius}_reso{reso}_H{H}.tif', all_rgbs)\n",
    "tifffile.imsave(f'synthetic_volume_reso{reso}.tif', volume)\n",
    "\n",
    "# TODO: train to fit these projections, using the regular version and the linear version\n"
   ]
  },
  {
   "cell_type": "code",
   "execution_count": null,
   "metadata": {},
   "outputs": [],
   "source": []
  }
 ],
 "metadata": {
  "kernelspec": {
   "display_name": "Python (jaxct)",
   "language": "python",
   "name": "jaxct"
  },
  "language_info": {
   "codemirror_mode": {
    "name": "ipython",
    "version": 3
   },
   "file_extension": ".py",
   "mimetype": "text/x-python",
   "name": "python",
   "nbconvert_exporter": "python",
   "pygments_lexer": "ipython3",
   "version": "3.10.12"
  },
  "orig_nbformat": 4
 },
 "nbformat": 4,
 "nbformat_minor": 2
}
